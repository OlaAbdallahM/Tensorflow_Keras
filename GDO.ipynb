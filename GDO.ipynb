{
 "cells": [
  {
   "cell_type": "code",
   "execution_count": 34,
   "id": "3539765b",
   "metadata": {},
   "outputs": [],
   "source": [
    "#import tensorflow as tf\n",
    "import tensorflow.compat.v1 as tf\n",
    "tf.disable_v2_behavior()\n",
    "# the equation is  : 4x+2 = 0\n",
    "unknownvalue = tf.Variable(0.0)\n",
    "\n",
    "a = tf.constant(4.0)\n",
    "b = tf.constant(2.0)"
   ]
  },
  {
   "cell_type": "code",
   "execution_count": 13,
   "id": "e467513b",
   "metadata": {},
   "outputs": [],
   "source": [
    "c = tf.multiply(unknownvalue,a)  # 4x\n",
    "equation  = tf.add(c,b) # 4x+2"
   ]
  },
  {
   "cell_type": "code",
   "execution_count": 14,
   "id": "e1f91352",
   "metadata": {},
   "outputs": [],
   "source": [
    "zerovalue = tf.constant(0.0)\n",
    "diff = tf.square(equation-zerovalue) # differnce is : 4x+2  -  0 "
   ]
  },
  {
   "cell_type": "code",
   "execution_count": 15,
   "id": "1a111081",
   "metadata": {},
   "outputs": [],
   "source": [
    "\n",
    "solving = tf.train.GradientDescentOptimizer(0.01).minimize(diff)\n",
    "init = tf.global_variables_initializer()\n",
    "\n",
    "sess = tf.Session()\n",
    "sess.run(init)"
   ]
  },
  {
   "cell_type": "code",
   "execution_count": 16,
   "id": "69db6fc9",
   "metadata": {},
   "outputs": [],
   "source": [
    "for n in range(1000):\n",
    "    sess.run(solving)"
   ]
  },
  {
   "cell_type": "code",
   "execution_count": 17,
   "id": "31d45437",
   "metadata": {},
   "outputs": [
    {
     "name": "stdout",
     "output_type": "stream",
     "text": [
      "-0.49999997\n"
     ]
    }
   ],
   "source": [
    "print(sess.run(unknownvalue))"
   ]
  },
  {
   "cell_type": "markdown",
   "id": "847b83f3",
   "metadata": {},
   "source": [
    "### Example 2"
   ]
  },
  {
   "cell_type": "code",
   "execution_count": 18,
   "id": "21df4439",
   "metadata": {},
   "outputs": [],
   "source": [
    "# the equation is  : x**2 + 7x+ 12 = 0\n",
    "\n",
    "unknownvalue = tf.Variable(0.0)\n",
    "a = tf.constant(7.0)\n",
    "b = tf.constant(12.0)\n",
    "c = tf.multiply(unknownvalue,a)\n",
    "d = tf.pow(unknownvalue,2)\n",
    "e = tf.add(c,d)\n",
    "equation  = tf.add(e,b)"
   ]
  },
  {
   "cell_type": "code",
   "execution_count": 19,
   "id": "c9bbe3ef",
   "metadata": {},
   "outputs": [],
   "source": [
    "zerovalue = tf.constant(0.0)\n",
    "diff = tf.square(equation-zerovalue)\n",
    "solving = tf.train.GradientDescentOptimizer(0.01).minimize(diff)\n",
    "init = tf.global_variables_initializer()"
   ]
  },
  {
   "cell_type": "code",
   "execution_count": 20,
   "id": "c967fd66",
   "metadata": {},
   "outputs": [
    {
     "name": "stdout",
     "output_type": "stream",
     "text": [
      "-2.9999933\n"
     ]
    }
   ],
   "source": [
    "sess = tf.Session()\n",
    "sess.run(init)\n",
    "for n in range(1000):\n",
    "    sess.run(solving)\n",
    "  \n",
    "print(sess.run(unknownvalue))                               "
   ]
  },
  {
   "cell_type": "markdown",
   "id": "ea500d20",
   "metadata": {},
   "source": [
    "### Example 3"
   ]
  },
  {
   "cell_type": "code",
   "execution_count": 21,
   "id": "4ab0a773",
   "metadata": {},
   "outputs": [],
   "source": [
    "#  X = [0,1,2,3,4,5]\n",
    "#  y = [9,7,5,3,1,-1]\n",
    "\n",
    "\n",
    "w = tf.Variable([5.0],tf.float32)\n",
    "b = tf.Variable([7.0],tf.float32)\n",
    "\n",
    "x = tf.placeholder(tf.float32)\n",
    "\n",
    "LinearRegressionModel = w*x + b"
   ]
  },
  {
   "cell_type": "code",
   "execution_count": 22,
   "id": "9f30caa6",
   "metadata": {},
   "outputs": [
    {
     "name": "stdout",
     "output_type": "stream",
     "text": [
      "[ 7. 12. 17. 22. 27. 32.]\n"
     ]
    }
   ],
   "source": [
    "sess = tf.Session()\n",
    "\n",
    "sess.run(tf.global_variables_initializer())\n",
    "\n",
    "print(sess.run(LinearRegressionModel,{x:[0,1,2,3,4,5]}))\n",
    "\n",
    "y = tf.placeholder(tf.float32)"
   ]
  },
  {
   "cell_type": "code",
   "execution_count": 23,
   "id": "55866921",
   "metadata": {},
   "outputs": [
    {
     "name": "stdout",
     "output_type": "stream",
     "text": [
      "2299.0\n"
     ]
    }
   ],
   "source": [
    "SquaredDiff = tf.square(LinearRegressionModel -y )\n",
    "\n",
    "TotalLoss = tf.reduce_sum(SquaredDiff)\n",
    "    \n",
    "print (sess.run(TotalLoss , {x:[0,1,2,3,4,5] , y:[9,7,5,3,1,-1]}) )"
   ]
  },
  {
   "cell_type": "code",
   "execution_count": 24,
   "id": "1412503e",
   "metadata": {},
   "outputs": [],
   "source": [
    "GDO  = tf.train.GradientDescentOptimizer(0.01)\n",
    "\n",
    "model = GDO.minimize(TotalLoss)"
   ]
  },
  {
   "cell_type": "code",
   "execution_count": 25,
   "id": "d9ecfbcc",
   "metadata": {},
   "outputs": [
    {
     "name": "stdout",
     "output_type": "stream",
     "text": [
      "[array([-1.9999969], dtype=float32), array([8.999989], dtype=float32)]\n"
     ]
    }
   ],
   "source": [
    "for i in range(10000) : \n",
    "    sess.run(model , {x:[0,1,2,3,4,5] , y:[9,7,5,3,1,-1]})\n",
    "    \n",
    "print(sess.run([w,b]))"
   ]
  },
  {
   "cell_type": "markdown",
   "id": "97441ffa",
   "metadata": {},
   "source": [
    "### Linear Regression 1"
   ]
  },
  {
   "cell_type": "code",
   "execution_count": 36,
   "id": "75e77976",
   "metadata": {},
   "outputs": [],
   "source": [
    "import numpy as np \n",
    "import matplotlib.pyplot as plt\n",
    "%matplotlib inline"
   ]
  },
  {
   "cell_type": "code",
   "execution_count": 37,
   "id": "eecac684",
   "metadata": {},
   "outputs": [],
   "source": [
    "np.random.seed(101) \n",
    "tf.set_random_seed(101)\n",
    "\n",
    "# Genrating random linear data \n",
    "# There will be 50 data points ranging from 0 to 50 \n",
    "x = np.linspace(0, 50, 50) \n",
    "y = np.linspace(0, 50, 50) \n",
    "\n",
    "# Adding noise to the random linear data \n",
    "x += np.random.uniform(-4, 4, 50) \n",
    "y += np.random.uniform(-4, 4, 50) \n",
    "\n",
    "n = len(x) # Number of data points"
   ]
  },
  {
   "cell_type": "code",
   "execution_count": 38,
   "id": "7933063f",
   "metadata": {},
   "outputs": [
    {
     "data": {
      "image/png": "[encoded data removed]",
      "text/plain": [
       "<Figure size 432x288 with 1 Axes>"
      ]
     },
     "metadata": {
      "needs_background": "light"
     },
     "output_type": "display_data"
    }
   ],
   "source": [
    "# Plot of Training Data \n",
    "plt.scatter(x, y) \n",
    "plt.xlabel('x') \n",
    "plt.xlabel('y') \n",
    "plt.title(\"Training Data\") \n",
    "plt.show()"
   ]
  },
  {
   "cell_type": "code",
   "execution_count": 39,
   "id": "57373707",
   "metadata": {},
   "outputs": [],
   "source": [
    "X = tf.placeholder(\"float\") \n",
    "Y = tf.placeholder(\"float\") \n",
    "\n",
    "W = tf.Variable(np.random.randn()) \n",
    "b = tf.Variable(np.random.randn())"
   ]
  },
  {
   "cell_type": "code",
   "execution_count": 40,
   "id": "90207734",
   "metadata": {},
   "outputs": [],
   "source": [
    "learning_rate = 0.01\n",
    "training_epochs = 1000"
   ]
  },
  {
   "cell_type": "code",
   "execution_count": 41,
   "id": "2bb8c527",
   "metadata": {},
   "outputs": [],
   "source": [
    "# Hypothesis \n",
    "y_pred = tf.add(tf.multiply(X, W), b)"
   ]
  },
  {
   "cell_type": "code",
   "execution_count": 42,
   "id": "66761c48",
   "metadata": {},
   "outputs": [],
   "source": [
    "# Mean Squared Error Cost Function \n",
    "cost = tf.reduce_sum(tf.pow(y_pred-Y, 2)) / (2 * n)"
   ]
  },
  {
   "cell_type": "code",
   "execution_count": 43,
   "id": "d2b048a1",
   "metadata": {},
   "outputs": [],
   "source": [
    "# Gradient Descent Optimizer \n",
    "optimizer = tf.train.GradientDescentOptimizer(learning_rate).minimize(cost)"
   ]
  },
  {
   "cell_type": "code",
   "execution_count": 44,
   "id": "4ac435d1",
   "metadata": {},
   "outputs": [
    {
     "name": "stdout",
     "output_type": "stream",
     "text": [
      "Epoch 50 : cost = 5.8868036 W = 0.9951241 b = 1.238105\n",
      "Epoch 100 : cost = 5.79127 W = 0.99812365 b = 1.0914395\n",
      "Epoch 150 : cost = 5.7119684 W = 1.0008028 b = 0.96044284\n",
      "Epoch 200 : cost = 5.6459413 W = 1.0031956 b = 0.84343934\n",
      "Epoch 250 : cost = 5.5907993 W = 1.0053328 b = 0.7389355\n",
      "Epoch 300 : cost = 5.544608 W = 1.007242 b = 0.6455921\n",
      "Epoch 350 : cost = 5.5057893 W = 1.008947 b = 0.56221986\n",
      "Epoch 400 : cost = 5.473066 W = 1.01047 b = 0.48775342\n",
      "Epoch 450 : cost = 5.445385 W = 1.0118302 b = 0.42124158\n",
      "Epoch 500 : cost = 5.4219036 W = 1.0130452 b = 0.36183482\n",
      "Epoch 550 : cost = 5.4019227 W = 1.0141305 b = 0.30877408\n",
      "Epoch 600 : cost = 5.3848557 W = 1.0150996 b = 0.2613811\n",
      "Epoch 650 : cost = 5.370246 W = 1.0159653 b = 0.21905078\n",
      "Epoch 700 : cost = 5.3576994 W = 1.0167387 b = 0.18124203\n",
      "Epoch 750 : cost = 5.3468933 W = 1.0174294 b = 0.14747237\n",
      "Epoch 800 : cost = 5.337558 W = 1.0180461 b = 0.11730931\n",
      "Epoch 850 : cost = 5.3294754 W = 1.0185971 b = 0.090368524\n",
      "Epoch 900 : cost = 5.322459 W = 1.0190892 b = 0.06630575\n",
      "Epoch 950 : cost = 5.3163586 W = 1.0195289 b = 0.044813294\n",
      "Epoch 1000 : cost = 5.3110332 W = 1.0199214 b = 0.02561658\n"
     ]
    }
   ],
   "source": [
    "# Starting the Tensorflow Session \n",
    "with tf.Session() as sess: \n",
    "\t\n",
    "\t# Initializing the Variables \n",
    "\tsess.run(tf.global_variables_initializer()) \n",
    "\t\n",
    "\t# Iterating through all the epochs \n",
    "\tfor epoch in range(training_epochs): \n",
    "\t\t\n",
    "\t\t# Feeding each data point into the optimizer using Feed Dictionary \n",
    "\t\tfor (_x, _y) in zip(x, y): \n",
    "\t\t\tsess.run(optimizer, feed_dict = {X : _x, Y : _y}) \n",
    "\t\t\n",
    "\t\t# Displaying the result after every 50 epochs \n",
    "\t\tif (epoch + 1) % 50 == 0: \n",
    "\t\t\t# Calculating the cost a every epoch \n",
    "\t\t\tc = sess.run(cost, feed_dict = {X : x, Y : y}) \n",
    "\t\t\tprint(\"Epoch\", (epoch + 1), \": cost =\", c, \"W =\", sess.run(W), \"b =\", sess.run(b)) \n",
    "\t\n",
    "\t# Storing necessary values to be used outside the Session \n",
    "\ttraining_cost = sess.run(cost, feed_dict ={X: x, Y: y}) \n",
    "\tweight = sess.run(W) \n",
    "\tbias = sess.run(b)\n"
   ]
  },
  {
   "cell_type": "code",
   "execution_count": 45,
   "id": "05965bd1",
   "metadata": {
    "scrolled": true
   },
   "outputs": [
    {
     "name": "stdout",
     "output_type": "stream",
     "text": [
      "Training cost = 5.3110332 Weight = 1.0199214 bias = 0.02561658 \n",
      "\n"
     ]
    }
   ],
   "source": [
    "# Calculating the predictions \n",
    "predictions = weight * x + bias \n",
    "print(\"Training cost =\", training_cost, \"Weight =\", weight, \"bias =\", bias, '\\n')"
   ]
  },
  {
   "cell_type": "code",
   "execution_count": 46,
   "id": "c077c23b",
   "metadata": {},
   "outputs": [
    {
     "data": {
      "image/png": "[encoded data removed]",
      "text/plain": [
       "<Figure size 432x288 with 1 Axes>"
      ]
     },
     "metadata": {
      "needs_background": "light"
     },
     "output_type": "display_data"
    }
   ],
   "source": [
    "# Plotting the Results \n",
    "plt.plot(x, y, 'ro', label ='Original data') \n",
    "plt.plot(x, predictions, label ='Fitted line') \n",
    "plt.title('Linear Regression Result') \n",
    "plt.legend() \n",
    "plt.show()"
   ]
  },
  {
   "cell_type": "markdown",
   "id": "b0fccf16",
   "metadata": {},
   "source": [
    "### Logistic Regression"
   ]
  },
  {
   "cell_type": "code",
   "execution_count": 47,
   "id": "afb16884",
   "metadata": {},
   "outputs": [],
   "source": [
    "import numpy as np # linear algebra\n",
    "import seaborn as sns\n",
    "sns.set(style='whitegrid')\n",
    "import pandas as pd  \n",
    "import matplotlib.pyplot as plt\n",
    "%matplotlib inline"
   ]
  },
  {
   "cell_type": "code",
   "execution_count": 48,
   "id": "e4c1ae65",
   "metadata": {},
   "outputs": [
    {
     "name": "stderr",
     "output_type": "stream",
     "text": [
      "c:\\users\\olaab\\appdata\\local\\programs\\python\\python37\\lib\\site-packages\\ipykernel_launcher.py:4: UserWarning: Pandas doesn't allow columns to be created via a new attribute name - see https://pandas.pydata.org/pandas-docs/stable/indexing.html#attribute-access\n",
      "  after removing the cwd from sys.path.\n"
     ]
    },
    {
     "data": {
      "text/plain": [
       "<matplotlib.legend.Legend at 0x1f232919240>"
      ]
     },
     "execution_count": 48,
     "metadata": {},
     "output_type": "execute_result"
    },
    {
     "data": {
      "image/png": "[encoded data removed]",
      "text/plain": [
       "<Figure size 432x288 with 1 Axes>"
      ]
     },
     "metadata": {
      "needs_background": "light"
     },
     "output_type": "display_data"
    }
   ],
   "source": [
    "iris = pd.read_csv('dataset.csv')\n",
    "iris = iris[:100]\n",
    "\n",
    "iris.Species = iris.species.replace(to_replace=['setosa', 'versicolor'], value=[0, 1])\n",
    "plt.scatter(iris[:50].sepal_length, iris[:50].sepal_width, label='setosa')\n",
    "plt.scatter(iris[51:].sepal_length, iris[51:].sepal_width, label='versicolo')\n",
    "plt.xlabel('SepalLength')\n",
    "plt.ylabel('SepalWidth')\n",
    "plt.legend(loc='best')"
   ]
  },
  {
   "cell_type": "code",
   "execution_count": 49,
   "id": "5aee7112",
   "metadata": {},
   "outputs": [],
   "source": [
    "X = iris.drop(labels=['species'], axis=1).values\n",
    "y = iris.Species.values"
   ]
  },
  {
   "cell_type": "code",
   "execution_count": 50,
   "id": "8dda5add",
   "metadata": {},
   "outputs": [],
   "source": [
    "# set seed for numpy and tensorflow\n",
    "# set for reproducible results\n",
    "seed = 5\n",
    "np.random.seed(seed)\n",
    "tf.set_random_seed(seed)\n",
    "# set replace=False, Avoid double sampling\n",
    "train_index = np.random.choice(len(X), round(len(X) * 0.8), replace=False)\n",
    "# diff set\n",
    "test_index = np.array(list(set(range(len(X))) - set(train_index)))\n",
    "train_X = X[train_index]\n",
    "train_y = y[train_index]\n",
    "test_X = X[test_index]\n",
    "test_y = y[test_index]"
   ]
  },
  {
   "cell_type": "code",
   "execution_count": 51,
   "id": "e8bb24f4",
   "metadata": {},
   "outputs": [],
   "source": [
    "# Define the normalized function\n",
    "def min_max_normalized(data):\n",
    "    col_max = np.max(data, axis=0)\n",
    "    col_min = np.min(data, axis=0)\n",
    "    return np.divide(data - col_min, col_max - col_min)\n",
    "\n",
    "# Normalized processing, must be placed after the data set segmentation, \n",
    "# otherwise the test set will be affected by the training set\n",
    "train_X = min_max_normalized(train_X)\n",
    "test_X = min_max_normalized(test_X)"
   ]
  },
  {
   "cell_type": "code",
   "execution_count": 52,
   "id": "3b701d3e",
   "metadata": {},
   "outputs": [],
   "source": [
    "# Begin building the model framework\n",
    "# Declare the variables that need to be learned and initialization\n",
    "# There are 4 features here, A's dimension is (4, 1)\n",
    "A = tf.Variable(tf.random_normal(shape=[4, 1]))\n",
    "b = tf.Variable(tf.random_normal(shape=[1, 1]))\n",
    "init = tf.global_variables_initializer()\n",
    "sess = tf.Session()\n",
    "sess.run(init)"
   ]
  },
  {
   "cell_type": "code",
   "execution_count": 53,
   "id": "5bcd35bb",
   "metadata": {},
   "outputs": [],
   "source": [
    "# Define placeholders\n",
    "data = tf.placeholder(dtype=tf.float32, shape=[None, 4])\n",
    "target = tf.placeholder(dtype=tf.float32, shape=[None, 1])"
   ]
  },
  {
   "cell_type": "code",
   "execution_count": 54,
   "id": "90cdbe1e",
   "metadata": {},
   "outputs": [],
   "source": [
    "# Declare the model you need to learn\n",
    "mod = tf.matmul(data, A) + b"
   ]
  },
  {
   "cell_type": "code",
   "execution_count": 55,
   "id": "4b67f112",
   "metadata": {},
   "outputs": [],
   "source": [
    "# Declare loss function\n",
    "# Use the sigmoid cross-entropy loss function,\n",
    "# first doing a sigmoid on the model result and then using the cross-entropy loss function\n",
    "loss = tf.reduce_mean(tf.nn.sigmoid_cross_entropy_with_logits(logits=mod, labels=target))"
   ]
  },
  {
   "cell_type": "code",
   "execution_count": 56,
   "id": "48b59669",
   "metadata": {},
   "outputs": [],
   "source": [
    "# Define the learning rate， batch_size etc.\n",
    "learning_rate = 0.003\n",
    "batch_size = 30\n",
    "iter_num = 1500"
   ]
  },
  {
   "cell_type": "code",
   "execution_count": 57,
   "id": "b8ae01fb",
   "metadata": {},
   "outputs": [],
   "source": [
    "# Define the optimizer\n",
    "opt = tf.train.GradientDescentOptimizer(learning_rate)\n",
    "# Define the goal\n",
    "goal = opt.minimize(loss)\n",
    "# Define the accuracy\n",
    "# The default threshold is 0.5, rounded off directly\n",
    "prediction = tf.round(tf.sigmoid(mod))\n",
    "# Bool into float32 type\n",
    "correct = tf.cast(tf.equal(prediction, target), dtype=tf.float32)\n",
    "# Average\n",
    "accuracy = tf.reduce_mean(correct)\n",
    "# End of the definition of the model framework\n",
    "\n",
    "\n",
    "# Start training model\n",
    "# Define the variable that stores the result\n",
    "loss_trace = []\n",
    "train_acc = []\n",
    "test_acc = []"
   ]
  },
  {
   "cell_type": "code",
   "execution_count": 58,
   "id": "7b51b581",
   "metadata": {},
   "outputs": [
    {
     "name": "stdout",
     "output_type": "stream",
     "text": [
      "epoch:  300 loss: 1.024535 train_acc: 0.537500 test_acc: 0.350000\n",
      "epoch:  600 loss: 0.801513 train_acc: 0.537500 test_acc: 0.350000\n",
      "epoch:  900 loss: 0.720040 train_acc: 0.537500 test_acc: 0.350000\n",
      "epoch: 1200 loss: 0.539354 train_acc: 0.575000 test_acc: 0.400000\n",
      "epoch: 1500 loss: 0.465075 train_acc: 0.887500 test_acc: 0.900000\n"
     ]
    }
   ],
   "source": [
    "# training model\n",
    "for epoch in range(iter_num):\n",
    "    # Generate random batch index\n",
    "    batch_index = np.random.choice(len(train_X), size=batch_size)\n",
    "    batch_train_X = train_X[batch_index]\n",
    "    batch_train_y = np.matrix(train_y[batch_index]).T\n",
    "    sess.run(goal, feed_dict={data: batch_train_X, target: batch_train_y})\n",
    "    temp_loss = sess.run(loss, feed_dict={data: batch_train_X, target: batch_train_y})\n",
    "    # convert into a matrix, and the shape of the placeholder to correspond\n",
    "    temp_train_acc = sess.run(accuracy, feed_dict={data: train_X, target: np.matrix(train_y).T})\n",
    "    temp_test_acc = sess.run(accuracy, feed_dict={data: test_X, target: np.matrix(test_y).T})\n",
    "    # recode the result\n",
    "    loss_trace.append(temp_loss)\n",
    "    train_acc.append(temp_train_acc)\n",
    "    test_acc.append(temp_test_acc)\n",
    "    # output\n",
    "    if (epoch + 1) % 300 == 0:\n",
    "        print('epoch: {:4d} loss: {:5f} train_acc: {:5f} test_acc: {:5f}'.format(epoch + 1,temp_loss,temp_train_acc,temp_test_acc))"
   ]
  },
  {
   "cell_type": "code",
   "execution_count": 59,
   "id": "e31a9c81",
   "metadata": {},
   "outputs": [
    {
     "data": {
      "image/png": "[encoded data removed]",
      "text/plain": [
       "<Figure size 432x288 with 1 Axes>"
      ]
     },
     "metadata": {
      "needs_background": "light"
     },
     "output_type": "display_data"
    }
   ],
   "source": [
    "# Visualization of the results\n",
    "# loss function\n",
    "plt.plot(loss_trace)\n",
    "plt.title('Cross Entropy Loss')\n",
    "plt.xlabel('epoch')\n",
    "plt.ylabel('loss')\n",
    "plt.show()"
   ]
  }
 ],
 "metadata": {
  "kernelspec": {
   "display_name": "Python 3 (ipykernel)",
   "language": "python",
   "name": "python3"
  },
  "language_info": {
   "codemirror_mode": {
    "name": "ipython",
    "version": 3
   },
   "file_extension": ".py",
   "mimetype": "text/x-python",
   "name": "python",
   "nbconvert_exporter": "python",
   "pygments_lexer": "ipython3",
   "version": "3.7.0"
  }
 },
 "nbformat": 4,
 "nbformat_minor": 5
}

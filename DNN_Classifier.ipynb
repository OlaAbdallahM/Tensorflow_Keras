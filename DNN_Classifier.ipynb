{
 "cells": [
  {
   "cell_type": "code",
   "execution_count": null,
   "metadata": {},
   "outputs": [],
   "source": [
    "import tensorflow as tf\n",
    "import numpy as np\n",
    "import pandas as pd\n",
    "import tempfile\n",
    "from sklearn.model_selection import train_test_split"
   ]
  },
  {
   "cell_type": "code",
   "execution_count": null,
   "metadata": {},
   "outputs": [],
   "source": [
    "data = pd.DataFrame(pd.read_csv(\"Car_Data.csv\"))\n",
    "data.head(100)"
   ]
  },
  {
   "cell_type": "code",
   "execution_count": null,
   "metadata": {},
   "outputs": [],
   "source": [
    "print('buying data is : ' , data['buying'].unique())\n",
    "print('maint data is : ' , data['maint'].unique())\n",
    "print('doors data is : ' , data['doors'].unique())\n",
    "print('persons data is : ' , data['persons'].unique())\n",
    "print('lug_boot data is : ' , data['lug_boot'].unique())\n",
    "print('safety data is : ' , data['safety'].unique())\n",
    "print('rating data is : ' , data['rating'].unique())"
   ]
  },
  {
   "cell_type": "code",
   "execution_count": null,
   "metadata": {},
   "outputs": [],
   "source": [
    "buying_mapping = {'vhigh': 0,'high': 1,'med': 2,'low': 3}\n",
    "maint_mapping = {'vhigh': 0,'high': 1,'med': 2,'low': 3}\n",
    "doors_mapping = {'2': 0,'3': 1,'4': 2,'5more': 3}\n",
    "persons_mapping = {'2': 0,'4': 1,'more': 2}\n",
    "lug_boot_mapping = {'small': 0,'med': 1,'big': 2}\n",
    "safety_mapping = {'low': 0,'med': 1,'high': 2}\n",
    "rating_mapping = {'unacc': 0,'acc': 1,'good': 2,'vgood': 3}"
   ]
  },
  {
   "cell_type": "code",
   "execution_count": null,
   "metadata": {},
   "outputs": [],
   "source": [
    "data['buying'] = data['buying'].map(buying_mapping)\n",
    "data['maint'] = data['maint'].map(maint_mapping)\n",
    "data['doors'] = data['doors'].map(doors_mapping)\n",
    "data['persons'] = data['persons'].map(persons_mapping)\n",
    "data['lug_boot'] = data['lug_boot'].map(lug_boot_mapping)\n",
    "data['safety'] = data['safety'].map(safety_mapping)\n",
    "data['rating'] = data['rating'].map(rating_mapping)"
   ]
  },
  {
   "cell_type": "code",
   "execution_count": null,
   "metadata": {},
   "outputs": [],
   "source": [
    "data.head(30)"
   ]
  },
  {
   "cell_type": "code",
   "execution_count": null,
   "metadata": {},
   "outputs": [],
   "source": [
    "X_train, X_test, y_train, y_test = train_test_split(data[[\"buying\", \"maint\", \"doors\", \"persons\", \"lug_boot\", \"safety\"]].values, data[\"rating\"].values, random_state=42)\n",
    "\n",
    "print('X_train shape is ' , X_train.shape)\n",
    "print('X_test shape is ' , X_test.shape)\n",
    "print('y_train shape is ' , y_train.shape)\n",
    "print('y_test shape is ' , y_test.shape)"
   ]
  },
  {
   "cell_type": "code",
   "execution_count": null,
   "metadata": {},
   "outputs": [],
   "source": [
    "# Specify that all features have real-value data\n",
    "feature_columns = [tf.contrib.layers.real_valued_column(\"\", dimension=6)]\n",
    "\n",
    "# Build 3 layer DNN with 512, 256, 128 units respectively.\n",
    "classifier = tf.contrib.learn.DNNClassifier(feature_columns=feature_columns,\n",
    "                                            hidden_units=[512, 256, 128],\n",
    "                                            n_classes=4,\n",
    "                                            optimizer=tf.train.ProximalAdagradOptimizer(\n",
    "                                                learning_rate=0.15,\n",
    "                                                l1_regularization_strength=0.001\n",
    "                                            ))"
   ]
  },
  {
   "cell_type": "code",
   "execution_count": null,
   "metadata": {},
   "outputs": [],
   "source": [
    "# Define the training inputs\n",
    "def get_train_inputs():\n",
    "    x = tf.constant(X_train)\n",
    "    y = tf.constant(y_train)\n",
    "    return x, y\n",
    "\n",
    "# Define the test inputs\n",
    "def get_test_inputs():\n",
    "    x = tf.constant(X_test)\n",
    "    y = tf.constant(y_test)\n",
    "\n",
    "    return x, y"
   ]
  },
  {
   "cell_type": "code",
   "execution_count": null,
   "metadata": {},
   "outputs": [],
   "source": [
    "# Fit model.\n",
    "classifier.fit(input_fn=get_train_inputs, steps=1200)"
   ]
  },
  {
   "cell_type": "code",
   "execution_count": null,
   "metadata": {},
   "outputs": [],
   "source": [
    "# Evaluate accuracy.\n",
    "print(classifier.evaluate(input_fn=get_test_inputs, steps=1))\n",
    "\n",
    "accuracy_score = classifier.evaluate(input_fn=get_test_inputs, steps=1)[\"accuracy\"]\n",
    "print(\"Test Accuracy: {0:f}\".format(accuracy_score))  "
   ]
  }
 ],
 "metadata": {
  "kernelspec": {
   "display_name": "Python 3 (ipykernel)",
   "language": "python",
   "name": "python3"
  },
  "language_info": {
   "codemirror_mode": {
    "name": "ipython",
    "version": 3
   },
   "file_extension": ".py",
   "mimetype": "text/x-python",
   "name": "python",
   "nbconvert_exporter": "python",
   "pygments_lexer": "ipython3",
   "version": "3.7.0"
  }
 },
 "nbformat": 4,
 "nbformat_minor": 2
}
